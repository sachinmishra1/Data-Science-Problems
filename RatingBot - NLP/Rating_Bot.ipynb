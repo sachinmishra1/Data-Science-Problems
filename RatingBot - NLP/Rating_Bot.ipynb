{
  "nbformat": 4,
  "nbformat_minor": 0,
  "metadata": {
    "colab": {
      "provenance": []
    },
    "kernelspec": {
      "name": "python3",
      "display_name": "Python 3"
    },
    "language_info": {
      "name": "python"
    }
  },
  "cells": [
    {
      "cell_type": "code",
      "execution_count": 1,
      "metadata": {
        "id": "eSG54Fs1LCVa"
      },
      "outputs": [],
      "source": [
        "import numpy as np\n",
        "import pandas as pd\n",
        "\n",
        "df = pd.read_csv('/content/reviews.csv')"
      ]
    },
    {
      "cell_type": "code",
      "source": [
        "df"
      ],
      "metadata": {
        "colab": {
          "base_uri": "https://localhost:8080/",
          "height": 677
        },
        "id": "-eqHxTXSLxKQ",
        "outputId": "99aff762-52ff-432e-8810-e498b7179e37"
      },
      "execution_count": 2,
      "outputs": [
        {
          "output_type": "execute_result",
          "data": {
            "text/plain": [
              "                                              Reviews   Rating\n",
              "0   The product is fairly good but it has scratche...  Average\n",
              "1                 Not same as told in the description     Poor\n",
              "2                              It is worth the money!     Good\n",
              "3                    Delivered product is not genuine     Poor\n",
              "4            I'm not satisifed with the build quality     Poor\n",
              "5       This is considerably good for the price range     Good\n",
              "6    The product is fine but the packaging isn't good  Average\n",
              "7                                      I am satisfied  Average\n",
              "8   Certainly a better version is availble but it ...  Average\n",
              "9                              The product is damaged     Poor\n",
              "10           I will recommend everyone to go for this     Good\n",
              "11                         It was not worth the money     Poor\n",
              "12          The product is a fake copy of the genuine     Poor\n",
              "13         Evrything is fine except for the packaging  Average\n",
              "14                   Does not come with warranty card     Poor\n",
              "15         The build quality is awesome for the price     Good\n",
              "16                             Cannot find any better     Good\n",
              "17                              Complete satisfactory     Good\n",
              "18     Packaging was torn off but the product is fine  Average\n",
              "19               This is not good for the price range     Poor"
            ],
            "text/html": [
              "\n",
              "  <div id=\"df-19ecee70-93e9-4b0a-b46f-8a1808750a83\">\n",
              "    <div class=\"colab-df-container\">\n",
              "      <div>\n",
              "<style scoped>\n",
              "    .dataframe tbody tr th:only-of-type {\n",
              "        vertical-align: middle;\n",
              "    }\n",
              "\n",
              "    .dataframe tbody tr th {\n",
              "        vertical-align: top;\n",
              "    }\n",
              "\n",
              "    .dataframe thead th {\n",
              "        text-align: right;\n",
              "    }\n",
              "</style>\n",
              "<table border=\"1\" class=\"dataframe\">\n",
              "  <thead>\n",
              "    <tr style=\"text-align: right;\">\n",
              "      <th></th>\n",
              "      <th>Reviews</th>\n",
              "      <th>Rating</th>\n",
              "    </tr>\n",
              "  </thead>\n",
              "  <tbody>\n",
              "    <tr>\n",
              "      <th>0</th>\n",
              "      <td>The product is fairly good but it has scratche...</td>\n",
              "      <td>Average</td>\n",
              "    </tr>\n",
              "    <tr>\n",
              "      <th>1</th>\n",
              "      <td>Not same as told in the description</td>\n",
              "      <td>Poor</td>\n",
              "    </tr>\n",
              "    <tr>\n",
              "      <th>2</th>\n",
              "      <td>It is worth the money!</td>\n",
              "      <td>Good</td>\n",
              "    </tr>\n",
              "    <tr>\n",
              "      <th>3</th>\n",
              "      <td>Delivered product is not genuine</td>\n",
              "      <td>Poor</td>\n",
              "    </tr>\n",
              "    <tr>\n",
              "      <th>4</th>\n",
              "      <td>I'm not satisifed with the build quality</td>\n",
              "      <td>Poor</td>\n",
              "    </tr>\n",
              "    <tr>\n",
              "      <th>5</th>\n",
              "      <td>This is considerably good for the price range</td>\n",
              "      <td>Good</td>\n",
              "    </tr>\n",
              "    <tr>\n",
              "      <th>6</th>\n",
              "      <td>The product is fine but the packaging isn't good</td>\n",
              "      <td>Average</td>\n",
              "    </tr>\n",
              "    <tr>\n",
              "      <th>7</th>\n",
              "      <td>I am satisfied</td>\n",
              "      <td>Average</td>\n",
              "    </tr>\n",
              "    <tr>\n",
              "      <th>8</th>\n",
              "      <td>Certainly a better version is availble but it ...</td>\n",
              "      <td>Average</td>\n",
              "    </tr>\n",
              "    <tr>\n",
              "      <th>9</th>\n",
              "      <td>The product is damaged</td>\n",
              "      <td>Poor</td>\n",
              "    </tr>\n",
              "    <tr>\n",
              "      <th>10</th>\n",
              "      <td>I will recommend everyone to go for this</td>\n",
              "      <td>Good</td>\n",
              "    </tr>\n",
              "    <tr>\n",
              "      <th>11</th>\n",
              "      <td>It was not worth the money</td>\n",
              "      <td>Poor</td>\n",
              "    </tr>\n",
              "    <tr>\n",
              "      <th>12</th>\n",
              "      <td>The product is a fake copy of the genuine</td>\n",
              "      <td>Poor</td>\n",
              "    </tr>\n",
              "    <tr>\n",
              "      <th>13</th>\n",
              "      <td>Evrything is fine except for the packaging</td>\n",
              "      <td>Average</td>\n",
              "    </tr>\n",
              "    <tr>\n",
              "      <th>14</th>\n",
              "      <td>Does not come with warranty card</td>\n",
              "      <td>Poor</td>\n",
              "    </tr>\n",
              "    <tr>\n",
              "      <th>15</th>\n",
              "      <td>The build quality is awesome for the price</td>\n",
              "      <td>Good</td>\n",
              "    </tr>\n",
              "    <tr>\n",
              "      <th>16</th>\n",
              "      <td>Cannot find any better</td>\n",
              "      <td>Good</td>\n",
              "    </tr>\n",
              "    <tr>\n",
              "      <th>17</th>\n",
              "      <td>Complete satisfactory</td>\n",
              "      <td>Good</td>\n",
              "    </tr>\n",
              "    <tr>\n",
              "      <th>18</th>\n",
              "      <td>Packaging was torn off but the product is fine</td>\n",
              "      <td>Average</td>\n",
              "    </tr>\n",
              "    <tr>\n",
              "      <th>19</th>\n",
              "      <td>This is not good for the price range</td>\n",
              "      <td>Poor</td>\n",
              "    </tr>\n",
              "  </tbody>\n",
              "</table>\n",
              "</div>\n",
              "      <button class=\"colab-df-convert\" onclick=\"convertToInteractive('df-19ecee70-93e9-4b0a-b46f-8a1808750a83')\"\n",
              "              title=\"Convert this dataframe to an interactive table.\"\n",
              "              style=\"display:none;\">\n",
              "        \n",
              "  <svg xmlns=\"http://www.w3.org/2000/svg\" height=\"24px\"viewBox=\"0 0 24 24\"\n",
              "       width=\"24px\">\n",
              "    <path d=\"M0 0h24v24H0V0z\" fill=\"none\"/>\n",
              "    <path d=\"M18.56 5.44l.94 2.06.94-2.06 2.06-.94-2.06-.94-.94-2.06-.94 2.06-2.06.94zm-11 1L8.5 8.5l.94-2.06 2.06-.94-2.06-.94L8.5 2.5l-.94 2.06-2.06.94zm10 10l.94 2.06.94-2.06 2.06-.94-2.06-.94-.94-2.06-.94 2.06-2.06.94z\"/><path d=\"M17.41 7.96l-1.37-1.37c-.4-.4-.92-.59-1.43-.59-.52 0-1.04.2-1.43.59L10.3 9.45l-7.72 7.72c-.78.78-.78 2.05 0 2.83L4 21.41c.39.39.9.59 1.41.59.51 0 1.02-.2 1.41-.59l7.78-7.78 2.81-2.81c.8-.78.8-2.07 0-2.86zM5.41 20L4 18.59l7.72-7.72 1.47 1.35L5.41 20z\"/>\n",
              "  </svg>\n",
              "      </button>\n",
              "      \n",
              "  <style>\n",
              "    .colab-df-container {\n",
              "      display:flex;\n",
              "      flex-wrap:wrap;\n",
              "      gap: 12px;\n",
              "    }\n",
              "\n",
              "    .colab-df-convert {\n",
              "      background-color: #E8F0FE;\n",
              "      border: none;\n",
              "      border-radius: 50%;\n",
              "      cursor: pointer;\n",
              "      display: none;\n",
              "      fill: #1967D2;\n",
              "      height: 32px;\n",
              "      padding: 0 0 0 0;\n",
              "      width: 32px;\n",
              "    }\n",
              "\n",
              "    .colab-df-convert:hover {\n",
              "      background-color: #E2EBFA;\n",
              "      box-shadow: 0px 1px 2px rgba(60, 64, 67, 0.3), 0px 1px 3px 1px rgba(60, 64, 67, 0.15);\n",
              "      fill: #174EA6;\n",
              "    }\n",
              "\n",
              "    [theme=dark] .colab-df-convert {\n",
              "      background-color: #3B4455;\n",
              "      fill: #D2E3FC;\n",
              "    }\n",
              "\n",
              "    [theme=dark] .colab-df-convert:hover {\n",
              "      background-color: #434B5C;\n",
              "      box-shadow: 0px 1px 3px 1px rgba(0, 0, 0, 0.15);\n",
              "      filter: drop-shadow(0px 1px 2px rgba(0, 0, 0, 0.3));\n",
              "      fill: #FFFFFF;\n",
              "    }\n",
              "  </style>\n",
              "\n",
              "      <script>\n",
              "        const buttonEl =\n",
              "          document.querySelector('#df-19ecee70-93e9-4b0a-b46f-8a1808750a83 button.colab-df-convert');\n",
              "        buttonEl.style.display =\n",
              "          google.colab.kernel.accessAllowed ? 'block' : 'none';\n",
              "\n",
              "        async function convertToInteractive(key) {\n",
              "          const element = document.querySelector('#df-19ecee70-93e9-4b0a-b46f-8a1808750a83');\n",
              "          const dataTable =\n",
              "            await google.colab.kernel.invokeFunction('convertToInteractive',\n",
              "                                                     [key], {});\n",
              "          if (!dataTable) return;\n",
              "\n",
              "          const docLinkHtml = 'Like what you see? Visit the ' +\n",
              "            '<a target=\"_blank\" href=https://colab.research.google.com/notebooks/data_table.ipynb>data table notebook</a>'\n",
              "            + ' to learn more about interactive tables.';\n",
              "          element.innerHTML = '';\n",
              "          dataTable['output_type'] = 'display_data';\n",
              "          await google.colab.output.renderOutput(dataTable, element);\n",
              "          const docLink = document.createElement('div');\n",
              "          docLink.innerHTML = docLinkHtml;\n",
              "          element.appendChild(docLink);\n",
              "        }\n",
              "      </script>\n",
              "    </div>\n",
              "  </div>\n",
              "  "
            ]
          },
          "metadata": {},
          "execution_count": 2
        }
      ]
    },
    {
      "cell_type": "code",
      "source": [
        "from sklearn.feature_extraction.text import CountVectorizer,TfidfTransformer"
      ],
      "metadata": {
        "id": "zeeMW7mjMDPV"
      },
      "execution_count": 4,
      "outputs": []
    },
    {
      "cell_type": "code",
      "source": [
        "X = df['Reviews']\n",
        "X"
      ],
      "metadata": {
        "colab": {
          "base_uri": "https://localhost:8080/"
        },
        "id": "4CXsAxx9OIT2",
        "outputId": "33c9f814-5a71-4b4e-bda9-c6441901679f"
      },
      "execution_count": 5,
      "outputs": [
        {
          "output_type": "execute_result",
          "data": {
            "text/plain": [
              "0     The product is fairly good but it has scratche...\n",
              "1                   Not same as told in the description\n",
              "2                                It is worth the money!\n",
              "3                      Delivered product is not genuine\n",
              "4              I'm not satisifed with the build quality\n",
              "5         This is considerably good for the price range\n",
              "6      The product is fine but the packaging isn't good\n",
              "7                                        I am satisfied\n",
              "8     Certainly a better version is availble but it ...\n",
              "9                                The product is damaged\n",
              "10             I will recommend everyone to go for this\n",
              "11                           It was not worth the money\n",
              "12            The product is a fake copy of the genuine\n",
              "13           Evrything is fine except for the packaging\n",
              "14                     Does not come with warranty card\n",
              "15           The build quality is awesome for the price\n",
              "16                               Cannot find any better\n",
              "17                                Complete satisfactory\n",
              "18       Packaging was torn off but the product is fine\n",
              "19                 This is not good for the price range\n",
              "Name: Reviews, dtype: object"
            ]
          },
          "metadata": {},
          "execution_count": 5
        }
      ]
    },
    {
      "cell_type": "code",
      "source": [
        "#Feature Extraction\n",
        "vec = CountVectorizer()\n",
        "vec.fit(X)"
      ],
      "metadata": {
        "colab": {
          "base_uri": "https://localhost:8080/"
        },
        "id": "yXzjixy6OTUR",
        "outputId": "6f783aa6-58dd-4598-86fe-ac06776f2cd4"
      },
      "execution_count": 6,
      "outputs": [
        {
          "output_type": "execute_result",
          "data": {
            "text/plain": [
              "CountVectorizer()"
            ]
          },
          "metadata": {},
          "execution_count": 6
        }
      ]
    },
    {
      "cell_type": "code",
      "source": [
        "vec_X = vec.transform(X)\n",
        "vec_X"
      ],
      "metadata": {
        "colab": {
          "base_uri": "https://localhost:8080/"
        },
        "id": "eJxcP3VnOi6B",
        "outputId": "1a3a8a39-1ebe-4786-ab3a-dc6a3ed3150c"
      },
      "execution_count": 8,
      "outputs": [
        {
          "output_type": "execute_result",
          "data": {
            "text/plain": [
              "<20x63 sparse matrix of type '<class 'numpy.int64'>'\n",
              "\twith 127 stored elements in Compressed Sparse Row format>"
            ]
          },
          "metadata": {},
          "execution_count": 8
        }
      ]
    },
    {
      "cell_type": "code",
      "source": [
        "vec.vocabulary_"
      ],
      "metadata": {
        "colab": {
          "base_uri": "https://localhost:8080/"
        },
        "id": "JqxcI0Y-OrZU",
        "outputId": "b72ce0f0-025f-45d9-b956-1e3df40b9519"
      },
      "execution_count": 9,
      "outputs": [
        {
          "output_type": "execute_result",
          "data": {
            "text/plain": [
              "{'the': 52,\n",
              " 'product': 43,\n",
              " 'is': 33,\n",
              " 'fairly': 23,\n",
              " 'good': 30,\n",
              " 'but': 8,\n",
              " 'it': 35,\n",
              " 'has': 31,\n",
              " 'scratches': 51,\n",
              " 'on': 40,\n",
              " 'box': 6,\n",
              " 'not': 37,\n",
              " 'same': 47,\n",
              " 'as': 2,\n",
              " 'told': 55,\n",
              " 'in': 32,\n",
              " 'description': 18,\n",
              " 'worth': 62,\n",
              " 'money': 36,\n",
              " 'delivered': 17,\n",
              " 'genuine': 28,\n",
              " 'satisifed': 50,\n",
              " 'with': 61,\n",
              " 'build': 7,\n",
              " 'quality': 44,\n",
              " 'this': 53,\n",
              " 'considerably': 14,\n",
              " 'for': 27,\n",
              " 'price': 42,\n",
              " 'range': 45,\n",
              " 'fine': 26,\n",
              " 'packaging': 41,\n",
              " 'isn': 34,\n",
              " 'am': 0,\n",
              " 'satisfied': 49,\n",
              " 'certainly': 11,\n",
              " 'better': 5,\n",
              " 'version': 57,\n",
              " 'availble': 3,\n",
              " 'damaged': 16,\n",
              " 'will': 60,\n",
              " 'recommend': 46,\n",
              " 'everyone': 20,\n",
              " 'to': 54,\n",
              " 'go': 29,\n",
              " 'was': 59,\n",
              " 'fake': 24,\n",
              " 'copy': 15,\n",
              " 'of': 38,\n",
              " 'evrything': 21,\n",
              " 'except': 22,\n",
              " 'does': 19,\n",
              " 'come': 12,\n",
              " 'warranty': 58,\n",
              " 'card': 10,\n",
              " 'awesome': 4,\n",
              " 'cannot': 9,\n",
              " 'find': 25,\n",
              " 'any': 1,\n",
              " 'complete': 13,\n",
              " 'satisfactory': 48,\n",
              " 'torn': 56,\n",
              " 'off': 39}"
            ]
          },
          "metadata": {},
          "execution_count": 9
        }
      ]
    },
    {
      "cell_type": "code",
      "source": [
        "#Tf Idf Extraction\n",
        "tfidf = TfidfTransformer()\n",
        "tfidf.fit(vec_X)"
      ],
      "metadata": {
        "colab": {
          "base_uri": "https://localhost:8080/"
        },
        "id": "c26aZR6_OzG9",
        "outputId": "9909aa35-5088-4e15-f2d2-5670a1f15544"
      },
      "execution_count": 10,
      "outputs": [
        {
          "output_type": "execute_result",
          "data": {
            "text/plain": [
              "TfidfTransformer()"
            ]
          },
          "metadata": {},
          "execution_count": 10
        }
      ]
    },
    {
      "cell_type": "code",
      "source": [
        "review = tfidf.transform(vec_X)\n",
        "review"
      ],
      "metadata": {
        "colab": {
          "base_uri": "https://localhost:8080/"
        },
        "id": "CiVVO99_PIHY",
        "outputId": "950bd1eb-a68b-4f52-d84a-f53cc42eb67f"
      },
      "execution_count": 13,
      "outputs": [
        {
          "output_type": "execute_result",
          "data": {
            "text/plain": [
              "<20x63 sparse matrix of type '<class 'numpy.float64'>'\n",
              "\twith 127 stored elements in Compressed Sparse Row format>"
            ]
          },
          "metadata": {},
          "execution_count": 13
        }
      ]
    },
    {
      "cell_type": "code",
      "source": [
        "y = df['Rating'].tolist()\n",
        "y"
      ],
      "metadata": {
        "colab": {
          "base_uri": "https://localhost:8080/"
        },
        "id": "Y2egCDezPSAK",
        "outputId": "a77d55e6-3071-4c27-f15a-ddd7169187b8"
      },
      "execution_count": 14,
      "outputs": [
        {
          "output_type": "execute_result",
          "data": {
            "text/plain": [
              "['Average',\n",
              " 'Poor',\n",
              " 'Good',\n",
              " 'Poor',\n",
              " 'Poor',\n",
              " 'Good',\n",
              " 'Average',\n",
              " 'Average',\n",
              " 'Average',\n",
              " 'Poor',\n",
              " 'Good',\n",
              " 'Poor',\n",
              " 'Poor',\n",
              " 'Average',\n",
              " 'Poor',\n",
              " 'Good',\n",
              " 'Good',\n",
              " 'Good',\n",
              " 'Average',\n",
              " 'Poor']"
            ]
          },
          "metadata": {},
          "execution_count": 14
        }
      ]
    },
    {
      "cell_type": "code",
      "source": [
        "from sklearn.tree import DecisionTreeClassifier"
      ],
      "metadata": {
        "id": "gsPXBmBaPapz"
      },
      "execution_count": 15,
      "outputs": []
    },
    {
      "cell_type": "code",
      "source": [
        "Model = DecisionTreeClassifier()\n",
        "Model.fit(review,y)"
      ],
      "metadata": {
        "colab": {
          "base_uri": "https://localhost:8080/"
        },
        "id": "TR4g8tFVPfXr",
        "outputId": "b6260936-4523-4289-ee65-57519a46db7d"
      },
      "execution_count": 16,
      "outputs": [
        {
          "output_type": "execute_result",
          "data": {
            "text/plain": [
              "DecisionTreeClassifier()"
            ]
          },
          "metadata": {},
          "execution_count": 16
        }
      ]
    },
    {
      "cell_type": "code",
      "source": [
        "txt = [\"The product is not satisfactory\"]\n",
        "text_ex = vec.transform(txt)\n",
        "text_tf = tfidf.transform(text_ex)\n",
        "Model.predict(text_tf)"
      ],
      "metadata": {
        "colab": {
          "base_uri": "https://localhost:8080/"
        },
        "id": "BGvEUvLGPmjP",
        "outputId": "0fa5921a-7226-4b6e-d28e-3c87e949e417"
      },
      "execution_count": 19,
      "outputs": [
        {
          "output_type": "execute_result",
          "data": {
            "text/plain": [
              "array(['Poor'], dtype='<U7')"
            ]
          },
          "metadata": {},
          "execution_count": 19
        }
      ]
    },
    {
      "cell_type": "code",
      "source": [
        "def rate(comment):\n",
        "  f_ex = vec.transform(comment)\n",
        "  tf = tfidf.transform(f_ex)\n",
        "  pred = Model.predict(tf)\n",
        "  for review,rating in zip(comment,pred):\n",
        "    print(review,\": \\nRating: \",rating)"
      ],
      "metadata": {
        "id": "wMJZMgGEQUbz"
      },
      "execution_count": 29,
      "outputs": []
    },
    {
      "cell_type": "code",
      "source": [
        "rate([\"Not good condition of product\",'It is satisfactory'])"
      ],
      "metadata": {
        "colab": {
          "base_uri": "https://localhost:8080/"
        },
        "id": "Z_emhPrrQ1yl",
        "outputId": "d409d095-43ba-4985-9170-00aff41cb3d6"
      },
      "execution_count": 30,
      "outputs": [
        {
          "output_type": "stream",
          "name": "stdout",
          "text": [
            "Not good condition of product : \n",
            "Rating:  Poor\n",
            "It is satisfactory : \n",
            "Rating:  Good\n"
          ]
        }
      ]
    }
  ]
}